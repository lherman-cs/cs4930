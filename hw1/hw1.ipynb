{
 "cells": [
  {
   "cell_type": "markdown",
   "metadata": {},
   "source": [
    "# Homework 1\n",
    "\n",
    "\n",
    "## Derive a reliability function R(t) for each system.\n",
    "\n",
    "   A) \n",
    "   $$R_1(t) = 1.0 - (1.0 - (R_{cpu} \\cdot R_{mem}))^2$$\n",
    "   $$R_1(t) = 1.0 - (1.0 - R_{cpu} R_{mem})^2$$\n",
    "   $$R_1(t) = 1.0 - (1.0 - 2R_{cpu}R_{mem} + R_{cpu}^2 R_{mem}^2)$$\n",
    "   $$R_1(t) = 2R_{cpu} R_{mem} - R_{cpu}^2 R_{mem}^2$$\n",
    "   \n",
    "   B) \n",
    "   $$R_2(t) = (1.0 - (1.0 - R_{cpu})^2) \\cdot (1.0 - (1.0 - R_{mem})^2)$$\n",
    "   $$R_2(t) = (1.0 - (1.0 - 2R_{cpu} + R_{cpu}^2)) \\cdot (1.0 - (1.0 - 2R_{mem} + R_{mem}^2))$$\n",
    "   $$R_2(t) = (2R_{cpu} - R_{cpu}^2) \\cdot (2R_{mem} - R_{mem}^2)$$\n",
    "\n",
    "## Using the reliability functions from part 1, determine which system is more reliable. Fully explain your reasoning and show your work. Assume that failures in each module are independent and exponentially distributed. The mean time between failure (MTBF) of a CPU module is 9 hours and the memory (MEM) module is 6 hours.\n",
    "\n",
    "**Following is a Python script to compare the systems' realibilities**\n",
    "\n",
    "A little bit overview of what I did in this script:\n",
    "\n",
    "1. Rewrote the formulas for $R_1(t)$ and $R_2(t)$ in Python with MTBF values for CPU and memory modules\n",
    "2. Derived the exponential CDF function from $R_1(t)$ and $R_2(t)$ by this formula $F(t) = 1 - R(t)$"
   ]
  },
  {
   "cell_type": "code",
   "execution_count": 1,
   "metadata": {},
   "outputs": [],
   "source": [
    "import matplotlib.pyplot as plt\n",
    "from math import exp"
   ]
  },
  {
   "cell_type": "code",
   "execution_count": 11,
   "metadata": {},
   "outputs": [],
   "source": [
    "lambda_cpu = 1 / 9 #  1 / MTBF_cpu\n",
    "lambda_mem = 1 / 6 # 1 / MTBF_mem\n",
    "\n",
    "# R(t) = e^-λt -> per module\n",
    "Rcpu_fn = lambda t: exp(-lambda_cpu * t)\n",
    "Rmem_fn = lambda t: exp(-lambda_mem * t)\n",
    "\n",
    "R1_fn = lambda t: 2*Rcpu_fn(t)*Rmem_fn(t) - Rcpu_fn(t)**2 * Rmem_fn(t)**2\n",
    "R2_fn = lambda t: (2*Rcpu_fn(t)-Rcpu_fn(t) ** 2) * (2*Rmem_fn(t) - Rmem_fn(t)**2)\n",
    "\n",
    "# Exponential CDF: F(t) = 1 - R(t)\n",
    "F1_fn = lambda t: 1.0 - R1_fn(t)\n",
    "F2_fn = lambda t: 1.0 - R2_fn(t)"
   ]
  },
  {
   "cell_type": "code",
   "execution_count": 3,
   "metadata": {},
   "outputs": [],
   "source": [
    "t = list(range(60))\n",
    "F1 = list(map(F1_fn, t))\n",
    "F2 = list(map(F2_fn, t))"
   ]
  },
  {
   "cell_type": "code",
   "execution_count": 4,
   "metadata": {},
   "outputs": [
    {
     "data": {
      "image/png": "[encoded data removed]",
      "text/plain": [
       "<Figure size 432x288 with 1 Axes>"
      ]
     },
     "metadata": {},
     "output_type": "display_data"
    }
   ],
   "source": [
    "plt.plot(t, F1, label=\"F1\")\n",
    "plt.plot(t, F2, label=\"F2\")\n",
    "plt.title(\"Exponential CDF\")\n",
    "plt.ylabel(\"F(t)\")\n",
    "plt.xlabel(\"t\")\n",
    "plt.legend()\n",
    "plt.show()"
   ]
  },
  {
   "cell_type": "markdown",
   "metadata": {},
   "source": [
    "From $t\\approx 0$ to $t \\approx 20$, the graph shows that **system B** has a lower failure rate, meaning **system B is more reliable**. "
   ]
  },
  {
   "cell_type": "markdown",
   "metadata": {},
   "source": [
    "## Memory modules are easier to protect than CPU modules, what would the MTBF of a memory module need to be to change your decision (if at all)? Explain."
   ]
  },
  {
   "cell_type": "markdown",
   "metadata": {},
   "source": [
    "Since we know that from question 2 that system B is more reliable, our main objective for solving this problem is how to reverse the statement by only changing $MTBF_{mem}$. In other words, we want to make $R_1(t) \\lt R_2(t)$ to become $R_1(t) \\gt R_2(t)$ by varying the $MTBF_{mem}$. That way, we can express the problem with the following math equations:\n",
    "\n",
    "$$R_1(t) \\gt R_2(t) $$"
   ]
  },
  {
   "cell_type": "markdown",
   "metadata": {},
   "source": [
    "$$2R_{cpu} R_{mem} - R_{cpu}^2 R_{mem}^2 \\gt (2R_{cpu} - R_{cpu}^2) \\cdot (2R_{mem} - R_{mem}^2) $$"
   ]
  },
  {
   "cell_type": "markdown",
   "metadata": {},
   "source": [
    "$$2R_{cpu} R_{mem} - R_{cpu}^2 R_{mem}^2 \\gt 4R_{cpu} R_{mem} - 2R_{cpu} R_{mem}^2 - 2R_{mem} R_{cpu}^2 + R_{cpu}^2 R_{mem}^2$$"
   ]
  },
  {
   "cell_type": "markdown",
   "metadata": {},
   "source": [
    "$$0 \\gt 2R_{cpu} R_{mem} - 2R_{cpu} R_{mem}^2 - 2R_{mem} R_{cpu}^2 + 2R_{cpu}^2 R_{mem}^2$$"
   ]
  },
  {
   "cell_type": "markdown",
   "metadata": {},
   "source": [
    "Divide both sides by 2:\n",
    "$$0 \\gt R_{cpu} R_{mem} - R_{cpu} R_{mem}^2 - R_{mem} R_{cpu}^2 + R_{cpu}^2 R_{mem}^2$$"
   ]
  },
  {
   "cell_type": "markdown",
   "metadata": {},
   "source": [
    "Factor:\n",
    "$$0 \\gt R_{cpu} R_{mem} ( 1 - R_{mem} - R_{cpu} + R_{cpu} R_{mem} ) $$"
   ]
  },
  {
   "cell_type": "markdown",
   "metadata": {},
   "source": [
    "Factor Again:\n",
    "$$0 \\gt R_{cpu} R_{mem} ( 1 - R_{mem} ) (1 - R_{cpu} ) $$"
   ]
  },
  {
   "cell_type": "markdown",
   "metadata": {},
   "source": [
    "Expand $R_{cpu}$ and $R_{mem}$. However, $R_{mem}$ is going to use $MTBF$ instead of **6** since this is the variable that we're trying to get.\n",
    "\n",
    "$$0 \\gt e^{-\\frac{1}{9} \\cdot t} e^{-\\frac{1}{MTBF} \\cdot t}(1 - e^{-\\frac{1}{MTBF} \\cdot t})(1 - e^{-\\frac{1}{9} \\cdot t})$$"
   ]
  },
  {
   "cell_type": "markdown",
   "metadata": {},
   "source": [
    "Unfortunately, I can't show the reason using this math equation because my lack of math ability in solving this problem. However, I can simulate this process using a Python script, which is similar to the previous code. The only difference is that instead of using $\\frac{1}{6}$ for $λ_{mem}$, then we transform that into a variable called `mem_mtbf` in the `test` function. After this modification, what I did was to iterate `MTBF` from 1 to 600000. "
   ]
  },
  {
   "cell_type": "markdown",
   "metadata": {},
   "source": [
    "**For the simulation video, you can find that here: [https://youtu.be/03j8nXq9nB4](https://youtu.be/03j8nXq9nB4) or in the archive, called** `simulation.mov`**. For the source code, you can find that in the archive, called **`simulation.py`"
   ]
  },
  {
   "cell_type": "markdown",
   "metadata": {},
   "source": [
    "In the simulation video, we see that F1 is always getting closer to F2 everytime $MTBF$ increases. However, from $MTBF = 1$ to $MTBF = 600000$, F1 never surpasses F2. From this observation, we can draw a conclusion that **it's not possible to make system A more reliable than system B by simply making the memory module to be safer**. Though someone might argue that the reasoning is not strong enough to only use the trend line, the last $MTBF$ in the simulation is **600,000 hours (68.49 years)**, which is big enough to reason that even if it's possible to have F1 suparssing F2 with higher $MTBF$, it's no longer practical in real world because it can be really expensive to make that happen and probably impossible to create such thing."
   ]
  },
  {
   "cell_type": "markdown",
   "metadata": {},
   "source": [
    "*Note: the full raw data is attached in the archive called `data.txt`*"
   ]
  },
  {
   "cell_type": "code",
   "execution_count": null,
   "metadata": {},
   "outputs": [],
   "source": []
  }
 ],
 "metadata": {
  "kernelspec": {
   "display_name": "Python 3",
   "language": "python",
   "name": "python3"
  },
  "language_info": {
   "codemirror_mode": {
    "name": "ipython",
    "version": 3
   },
   "file_extension": ".py",
   "mimetype": "text/x-python",
   "name": "python",
   "nbconvert_exporter": "python",
   "pygments_lexer": "ipython3",
   "version": "3.6.5"
  }
 },
 "nbformat": 4,
 "nbformat_minor": 2
}
